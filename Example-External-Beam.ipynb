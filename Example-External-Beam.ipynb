{
 "cells": [
  {
   "cell_type": "markdown",
   "metadata": {},
   "source": [
    "# University of Glasgow - Medical Physics MSc\n",
    "## Radiotherapy Computing Tutorial & Computing/Planning/Brachytherapy Assignment\n",
    "\n",
    "This [Jupyter notebook](https://jupyter.org/) will act as the Radiotherapy Computing tutorial, and as the assignment for computing/planning/brachytherapy.    \n",
    "\n",
    "This notebook will be running in an online executable environment hosted by [mybinder.org](https://mybinder.org/). To run code cells you can use `Control + Enter`. The code at any point depends what has been run before it chronologically, not necessarily through this document top down. To rerun the entire notebook, at the top of this page click the \"Fast Forward\" button (to the left of Download). For any issues with the environment please get in touch with [Alasdair Rutherford](mailto:alasdair.rutherford@ggc.scot.nhs.uk)\n",
    "\n",
    "In the resources folder we have a single field radiotherapy plan object (`RP.singlefield.dcm`), a multiple field radiotherapy plan object (`RP.mutlifield.dcm`), and tables of [percentage depth doses](./resources/PDDs.pdf) and [output factors](./resources/OutputFactors.pdf).\n",
    "\n",
    "###  Example - Interacting with External Beam Plans\n",
    "\n",
    "For this plan, the \"patient\" is a big block of water, the CT dataset is actually blank and the \"patient\" is created from the structure set. To start interacting with the patient, lets import some packages. We will be using [pydicom](https://pydicom.github.io/) to interact with the DICOM object."
   ]
  },
  {
   "cell_type": "code",
   "execution_count": 34,
   "metadata": {},
   "outputs": [],
   "source": [
    "import pydicom as pd"
   ]
  },
  {
   "cell_type": "markdown",
   "metadata": {},
   "source": [
    "Now the package is imported, we will load the plan and show the information:"
   ]
  },
  {
   "cell_type": "code",
   "execution_count": 35,
   "metadata": {},
   "outputs": [],
   "source": [
    "ds_rtplan = pd.dcmread(\"resources/RP.singlefield.dcm\")"
   ]
  },
  {
   "cell_type": "code",
   "execution_count": 36,
   "metadata": {},
   "outputs": [
    {
     "data": {
      "text/plain": [
       "Dataset.file_meta -------------------------------\n",
       "(0002, 0000) File Meta Information Group Length  UL: 192\n",
       "(0002, 0001) File Meta Information Version       OB: b'\\x00\\x01'\n",
       "(0002, 0002) Media Storage SOP Class UID         UI: RT Plan Storage\n",
       "(0002, 0003) Media Storage SOP Instance UID      UI: 1.2.246.352.221.5446671153178189143.3115329015485527700\n",
       "(0002, 0010) Transfer Syntax UID                 UI: Implicit VR Little Endian\n",
       "(0002, 0012) Implementation Class UID            UI: 1.2.246.352.70.2.1.160.3\n",
       "(0002, 0013) Implementation Version Name         SH: 'DCIE 16.1'\n",
       "-------------------------------------------------\n",
       "(0008, 0005) Specific Character Set              CS: 'ISO_IR 192'\n",
       "(0008, 0012) Instance Creation Date              DA: '20220715'\n",
       "(0008, 0013) Instance Creation Time              TM: '102008'\n",
       "(0008, 0016) SOP Class UID                       UI: RT Plan Storage\n",
       "(0008, 0018) SOP Instance UID                    UI: 1.2.246.352.221.5446671153178189143.3115329015485527700\n",
       "(0008, 0020) Study Date                          DA: ''\n",
       "(0008, 0030) Study Time                          TM: ''\n",
       "(0008, 0050) Accession Number                    SH: ''\n",
       "(0008, 0060) Modality                            CS: 'RTPLAN'\n",
       "(0008, 0070) Manufacturer                        LO: 'Varian Medical Systems'\n",
       "(0008, 0090) Referring Physician's Name          PN: ''\n",
       "(0008, 1070) Operators' Name                     PN: ''\n",
       "(0008, 1090) Manufacturer's Model Name           LO: 'ARIA RadOnc'\n",
       "(0010, 0010) Patient's Name                      PN: 'zz_MSc'\n",
       "(0010, 0020) Patient ID                          LO: 'zz_MSc'\n",
       "(0010, 0030) Patient's Birth Date                DA: ''\n",
       "(0010, 0040) Patient's Sex                       CS: ''\n",
       "(0012, 0062) Patient Identity Removed            CS: 'YES'\n",
       "(0012, 0063) De-identification Method            LO: 'De-identified with Varian Medical Systems DICOM Import Export'\n",
       "(0012, 0064)  De-identification Method Code Sequence  1 item(s) ---- \n",
       "   (0008, 0100) Code Value                          SH: '113100'\n",
       "   (0008, 0102) Coding Scheme Designator            SH: 'DCM'\n",
       "   (0008, 0104) Code Meaning                        LO: 'Basic Application Confidentiality Profile'\n",
       "   ---------\n",
       "(0018, 1020) Software Versions                   LO: '16.1.4'\n",
       "(0020, 000d) Study Instance UID                  UI: 1.2.246.352.221.5134837605666790372.3936414321207547526\n",
       "(0020, 000e) Series Instance UID                 UI: 1.2.246.352.221.5243781163023356653.7038484624284995735\n",
       "(0020, 0010) Study ID                            SH: ''\n",
       "(0020, 0011) Series Number                       IS: '4'\n",
       "(0020, 0052) Frame of Reference UID              UI: 1.2.246.352.221.4623120132290980429.5675568937560397454\n",
       "(0020, 1040) Position Reference Indicator        LO: ''\n",
       "(0028, 0303) Longitudinal Temporal Information M CS: 'REMOVED'\n",
       "(300a, 0002) RT Plan Label                       SH: 'ZZ_Coursework'\n",
       "(300a, 0003) RT Plan Name                        LO: 'PhantomPlan'\n",
       "(300a, 0006) RT Plan Date                        DA: '20220714'\n",
       "(300a, 0007) RT Plan Time                        TM: '111728.67'\n",
       "(300a, 000a) Plan Intent                         CS: 'CURATIVE'\n",
       "(300a, 000c) RT Plan Geometry                    CS: 'PATIENT'\n",
       "(300a, 0010)  Dose Reference Sequence  2 item(s) ---- \n",
       "   (300a, 0012) Dose Reference Number               IS: '1'\n",
       "   (300a, 0013) Dose Reference UID                  UI: 1.2.246.352.221.5681438626254332233.14205626159901601168\n",
       "   (300a, 0014) Dose Reference Structure Type       CS: 'SITE'\n",
       "   (300a, 0016) Dose Reference Description          LO: 'ZZ_Coursework'\n",
       "   (300a, 0020) Dose Reference Type                 CS: 'TARGET'\n",
       "   (300a, 0026) Target Prescription Dose            DS: '36.0'\n",
       "   (3267, 0010) Private Creator                     LO: 'Varian Medical Systems VISION 3267'\n",
       "   ---------\n",
       "   (300a, 0012) Dose Reference Number               IS: '2'\n",
       "   (300a, 0013) Dose Reference UID                  UI: 1.2.246.352.221.5266596676109147882.9455537013561957539\n",
       "   (300a, 0014) Dose Reference Structure Type       CS: 'COORDINATES'\n",
       "   (300a, 0016) Dose Reference Description          LO: 'zz_6cm'\n",
       "   (300a, 0018) Dose Reference Point Coordinates    DS: [0, -40, 0]\n",
       "   (300a, 0020) Dose Reference Type                 CS: 'TARGET'\n",
       "   (300a, 0026) Target Prescription Dose            DS: '36.0'\n",
       "   (3267, 0010) Private Creator                     LO: 'Varian Medical Systems VISION 3267'\n",
       "   ---------\n",
       "(300a, 0070)  Fraction Group Sequence  1 item(s) ---- \n",
       "   (300a, 0071) Fraction Group Number               IS: '1'\n",
       "   (300a, 0078) Number of Fractions Planned         IS: '12'\n",
       "   (300a, 0080) Number of Beams                     IS: '1'\n",
       "   (300a, 00a0) Number of Brachy Application Setups IS: '0'\n",
       "   (300c, 0004)  Referenced Beam Sequence  1 item(s) ---- \n",
       "      (300a, 0083) Referenced Dose Reference UID       UI: 1.2.246.352.71.10.967998087236.1777046.20220714111607\n",
       "      (300a, 0084) Beam Dose                           DS: '3.0'\n",
       "      (300a, 0086) Beam Meterset                       DS: '367.670378557074'\n",
       "      (300c, 0006) Referenced Beam Number              IS: '1'\n",
       "      (3249, 0010) Private Creator                     LO: 'Varian Medical Systems VISION 3249'\n",
       "      ---------\n",
       "   ---------\n",
       "(300a, 00b0)  Beam Sequence  1 item(s) ---- \n",
       "   (0008, 0070) Manufacturer                        LO: 'Varian Medical Systems'\n",
       "   (0008, 1090) Manufacturer's Model Name           LO: 'TDS'\n",
       "   (3002, 0050)  Primary Fluence Mode Sequence  1 item(s) ---- \n",
       "      (3002, 0051) Fluence Mode                        CS: 'STANDARD'\n",
       "      ---------\n",
       "   (300a, 00b2) Treatment Machine Name              SH: 'TRF_18'\n",
       "   (300a, 00b3) Primary Dosimeter Unit              CS: 'MU'\n",
       "   (300a, 00b4) Source-Axis Distance                DS: '1000.0'\n",
       "   (300a, 00b6)  Beam Limiting Device Sequence  2 item(s) ---- \n",
       "      (300a, 00b8) RT Beam Limiting Device Type        CS: 'X'\n",
       "      (300a, 00bc) Number of Leaf/Jaw Pairs            IS: '1'\n",
       "      ---------\n",
       "      (300a, 00b8) RT Beam Limiting Device Type        CS: 'Y'\n",
       "      (300a, 00bc) Number of Leaf/Jaw Pairs            IS: '1'\n",
       "      ---------\n",
       "   (300a, 00c0) Beam Number                         IS: '1'\n",
       "   (300a, 00c2) Beam Name                           LO: 'Field 1'\n",
       "   (300a, 00c4) Beam Type                           CS: 'STATIC'\n",
       "   (300a, 00c6) Radiation Type                      CS: 'PHOTON'\n",
       "   (300a, 00ce) Treatment Delivery Type             CS: 'TREATMENT'\n",
       "   (300a, 00d0) Number of Wedges                    IS: '0'\n",
       "   (300a, 00e0) Number of Compensators              IS: '0'\n",
       "   (300a, 00ed) Number of Boli                      IS: '0'\n",
       "   (300a, 00f0) Number of Blocks                    IS: '0'\n",
       "   (300a, 010e) Final Cumulative Meterset Weight    DS: '1.0'\n",
       "   (300a, 0110) Number of Control Points            IS: '2'\n",
       "   (300a, 0111)  Control Point Sequence  2 item(s) ---- \n",
       "      (300a, 0112) Control Point Index                 IS: '0'\n",
       "      (300a, 0114) Nominal Beam Energy                 DS: '10.0'\n",
       "      (300a, 0115) Dose Rate Set                       DS: '600.0'\n",
       "      (300a, 011a)  Beam Limiting Device Position Sequence  2 item(s) ---- \n",
       "         (300a, 00b8) RT Beam Limiting Device Type        CS: 'X'\n",
       "         (300a, 011c) Leaf/Jaw Positions                  DS: [-35, 35]\n",
       "         ---------\n",
       "         (300a, 00b8) RT Beam Limiting Device Type        CS: 'Y'\n",
       "         (300a, 011c) Leaf/Jaw Positions                  DS: [-20, 20]\n",
       "         ---------\n",
       "      (300a, 011e) Gantry Angle                        DS: '0.0'\n",
       "      (300a, 011f) Gantry Rotation Direction           CS: 'NONE'\n",
       "      (300a, 0120) Beam Limiting Device Angle          DS: '0.0'\n",
       "      (300a, 0121) Beam Limiting Device Rotation Direc CS: 'NONE'\n",
       "      (300a, 0122) Patient Support Angle               DS: '0.0'\n",
       "      (300a, 0123) Patient Support Rotation Direction  CS: 'NONE'\n",
       "      (300a, 0125) Table Top Eccentric Angle           DS: '0.0'\n",
       "      (300a, 0126) Table Top Eccentric Rotation Direct CS: 'NONE'\n",
       "      (300a, 0128) Table Top Vertical Position         DS: '-500.0'\n",
       "      (300a, 0129) Table Top Longitudinal Position     DS: '1000.0'\n",
       "      (300a, 012a) Table Top Lateral Position          DS: '0.0'\n",
       "      (300a, 012c) Isocenter Position                  DS: [0, -100, 1.7763568394e-14]\n",
       "      (300a, 0134) Cumulative Meterset Weight          DS: '0.0'\n",
       "      (300a, 0140) Table Top Pitch Angle               FL: 0.0\n",
       "      (300a, 0142) Table Top Pitch Rotation Direction  CS: 'NONE'\n",
       "      (300a, 0144) Table Top Roll Angle                FL: 0.0\n",
       "      (300a, 0146) Table Top Roll Rotation Direction   CS: 'NONE'\n",
       "      (300c, 0050)  Referenced Dose Reference Sequence  2 item(s) ---- \n",
       "         (300a, 010c) Cumulative Dose Reference Coefficie DS: '0.0'\n",
       "         (300c, 0051) Referenced Dose Reference Number    IS: '1'\n",
       "         ---------\n",
       "         (300a, 010c) Cumulative Dose Reference Coefficie DS: '0.0'\n",
       "         (300c, 0051) Referenced Dose Reference Number    IS: '2'\n",
       "         ---------\n",
       "      ---------\n",
       "      (300a, 0112) Control Point Index                 IS: '1'\n",
       "      (300a, 0134) Cumulative Meterset Weight          DS: '1.0'\n",
       "      (300c, 0050)  Referenced Dose Reference Sequence  2 item(s) ---- \n",
       "         (300a, 010c) Cumulative Dose Reference Coefficie DS: '1.0'\n",
       "         (300c, 0051) Referenced Dose Reference Number    IS: '1'\n",
       "         ---------\n",
       "         (300a, 010c) Cumulative Dose Reference Coefficie DS: '1.0'\n",
       "         (300c, 0051) Referenced Dose Reference Number    IS: '2'\n",
       "         ---------\n",
       "      ---------\n",
       "   (300c, 006a) Referenced Patient Setup Number     IS: '1'\n",
       "   (3285, 0010) Private Creator                     LO: 'Varian Medical Systems VISION 3285'\n",
       "   ---------\n",
       "(300a, 0180)  Patient Setup Sequence  1 item(s) ---- \n",
       "   (0018, 5100) Patient Position                    CS: 'HFS'\n",
       "   (300a, 0182) Patient Setup Number                IS: '1'\n",
       "   (300a, 01b0) Setup Technique                     CS: 'ISOCENTRIC'\n",
       "   ---------\n",
       "(300c, 0060)  Referenced Structure Set Sequence  1 item(s) ---- \n",
       "   (0008, 1150) Referenced SOP Class UID            UI: RT Structure Set Storage\n",
       "   (0008, 1155) Referenced SOP Instance UID         UI: 1.2.246.352.221.5496031682793436699.13947674425761956758\n",
       "   ---------\n",
       "(300e, 0002) Approval Status                     CS: 'UNAPPROVED'\n",
       "(3253, 0010) Private Creator                     LO: 'Varian Medical Systems VISION 3253'"
      ]
     },
     "execution_count": 36,
     "metadata": {},
     "output_type": "execute_result"
    }
   ],
   "source": [
    "ds_rtplan"
   ]
  },
  {
   "cell_type": "markdown",
   "metadata": {},
   "source": [
    "Next lets check for the number of beams and load them"
   ]
  },
  {
   "cell_type": "code",
   "execution_count": 37,
   "metadata": {},
   "outputs": [
    {
     "name": "stdout",
     "output_type": "stream",
     "text": [
      "We can count the number of Beam Sequences: 1\n"
     ]
    }
   ],
   "source": [
    "print(\"We can count the number of Beam Sequences: \" +  str(len((ds_rtplan.BeamSequence))))"
   ]
  },
  {
   "cell_type": "markdown",
   "metadata": {},
   "source": [
    "In our example plan, there is only one beam - so let's see the relevant detail. \n",
    "\n",
    "**Note**: for details on the units involved, see:  \n",
    "[Table C.8-46: RT Prescription Module Attributes](https://dicom.nema.org/medical/dicom/current/output/chtml/part03/sect_c.8.8.10.html)  \n",
    "[Table C.8-50: RT Beams Module Attributes](https://dicom.nema.org/medical/dicom/current/output/chtml/part03/sect_C.8.8.21.html)"
   ]
  },
  {
   "cell_type": "code",
   "execution_count": 38,
   "metadata": {},
   "outputs": [
    {
     "name": "stdout",
     "output_type": "stream",
     "text": [
      "[(0008, 0070) Manufacturer                        LO: 'Varian Medical Systems'\n",
      "(0008, 1090) Manufacturer's Model Name           LO: 'TDS'\n",
      "(3002, 0050)  Primary Fluence Mode Sequence  1 item(s) ---- \n",
      "   (3002, 0051) Fluence Mode                        CS: 'STANDARD'\n",
      "   ---------\n",
      "(300a, 00b2) Treatment Machine Name              SH: 'TRF_18'\n",
      "(300a, 00b3) Primary Dosimeter Unit              CS: 'MU'\n",
      "(300a, 00b4) Source-Axis Distance                DS: '1000.0'\n",
      "(300a, 00b6)  Beam Limiting Device Sequence  2 item(s) ---- \n",
      "   (300a, 00b8) RT Beam Limiting Device Type        CS: 'X'\n",
      "   (300a, 00bc) Number of Leaf/Jaw Pairs            IS: '1'\n",
      "   ---------\n",
      "   (300a, 00b8) RT Beam Limiting Device Type        CS: 'Y'\n",
      "   (300a, 00bc) Number of Leaf/Jaw Pairs            IS: '1'\n",
      "   ---------\n",
      "(300a, 00c0) Beam Number                         IS: '1'\n",
      "(300a, 00c2) Beam Name                           LO: 'Field 1'\n",
      "(300a, 00c4) Beam Type                           CS: 'STATIC'\n",
      "(300a, 00c6) Radiation Type                      CS: 'PHOTON'\n",
      "(300a, 00ce) Treatment Delivery Type             CS: 'TREATMENT'\n",
      "(300a, 00d0) Number of Wedges                    IS: '0'\n",
      "(300a, 00e0) Number of Compensators              IS: '0'\n",
      "(300a, 00ed) Number of Boli                      IS: '0'\n",
      "(300a, 00f0) Number of Blocks                    IS: '0'\n",
      "(300a, 010e) Final Cumulative Meterset Weight    DS: '1.0'\n",
      "(300a, 0110) Number of Control Points            IS: '2'\n",
      "(300a, 0111)  Control Point Sequence  2 item(s) ---- \n",
      "   (300a, 0112) Control Point Index                 IS: '0'\n",
      "   (300a, 0114) Nominal Beam Energy                 DS: '10.0'\n",
      "   (300a, 0115) Dose Rate Set                       DS: '600.0'\n",
      "   (300a, 011a)  Beam Limiting Device Position Sequence  2 item(s) ---- \n",
      "      (300a, 00b8) RT Beam Limiting Device Type        CS: 'X'\n",
      "      (300a, 011c) Leaf/Jaw Positions                  DS: [-35, 35]\n",
      "      ---------\n",
      "      (300a, 00b8) RT Beam Limiting Device Type        CS: 'Y'\n",
      "      (300a, 011c) Leaf/Jaw Positions                  DS: [-20, 20]\n",
      "      ---------\n",
      "   (300a, 011e) Gantry Angle                        DS: '0.0'\n",
      "   (300a, 011f) Gantry Rotation Direction           CS: 'NONE'\n",
      "   (300a, 0120) Beam Limiting Device Angle          DS: '0.0'\n",
      "   (300a, 0121) Beam Limiting Device Rotation Direc CS: 'NONE'\n",
      "   (300a, 0122) Patient Support Angle               DS: '0.0'\n",
      "   (300a, 0123) Patient Support Rotation Direction  CS: 'NONE'\n",
      "   (300a, 0125) Table Top Eccentric Angle           DS: '0.0'\n",
      "   (300a, 0126) Table Top Eccentric Rotation Direct CS: 'NONE'\n",
      "   (300a, 0128) Table Top Vertical Position         DS: '-500.0'\n",
      "   (300a, 0129) Table Top Longitudinal Position     DS: '1000.0'\n",
      "   (300a, 012a) Table Top Lateral Position          DS: '0.0'\n",
      "   (300a, 012c) Isocenter Position                  DS: [0, -100, 1.7763568394e-14]\n",
      "   (300a, 0134) Cumulative Meterset Weight          DS: '0.0'\n",
      "   (300a, 0140) Table Top Pitch Angle               FL: 0.0\n",
      "   (300a, 0142) Table Top Pitch Rotation Direction  CS: 'NONE'\n",
      "   (300a, 0144) Table Top Roll Angle                FL: 0.0\n",
      "   (300a, 0146) Table Top Roll Rotation Direction   CS: 'NONE'\n",
      "   (300c, 0050)  Referenced Dose Reference Sequence  2 item(s) ---- \n",
      "      (300a, 010c) Cumulative Dose Reference Coefficie DS: '0.0'\n",
      "      (300c, 0051) Referenced Dose Reference Number    IS: '1'\n",
      "      ---------\n",
      "      (300a, 010c) Cumulative Dose Reference Coefficie DS: '0.0'\n",
      "      (300c, 0051) Referenced Dose Reference Number    IS: '2'\n",
      "      ---------\n",
      "   ---------\n",
      "   (300a, 0112) Control Point Index                 IS: '1'\n",
      "   (300a, 0134) Cumulative Meterset Weight          DS: '1.0'\n",
      "   (300c, 0050)  Referenced Dose Reference Sequence  2 item(s) ---- \n",
      "      (300a, 010c) Cumulative Dose Reference Coefficie DS: '1.0'\n",
      "      (300c, 0051) Referenced Dose Reference Number    IS: '1'\n",
      "      ---------\n",
      "      (300a, 010c) Cumulative Dose Reference Coefficie DS: '1.0'\n",
      "      (300c, 0051) Referenced Dose Reference Number    IS: '2'\n",
      "      ---------\n",
      "   ---------\n",
      "(300c, 006a) Referenced Patient Setup Number     IS: '1'\n",
      "(3285, 0010) Private Creator                     LO: 'Varian Medical Systems VISION 3285']\n"
     ]
    }
   ],
   "source": [
    "print(ds_rtplan.BeamSequence)"
   ]
  },
  {
   "cell_type": "markdown",
   "metadata": {},
   "source": [
    "At this point, with the above information, it'd be useful to draw a diagram of the setup."
   ]
  },
  {
   "cell_type": "markdown",
   "metadata": {},
   "source": [
    "Hint: if you are unsure of the name of a specific tag in pydicom you can use the following syntax to see related results `ds_rtplan.dir(\"searchterm\")`, example below."
   ]
  },
  {
   "cell_type": "code",
   "execution_count": 39,
   "metadata": {},
   "outputs": [
    {
     "data": {
      "text/plain": [
       "['PlanIntent',\n",
       " 'RTPlanDate',\n",
       " 'RTPlanGeometry',\n",
       " 'RTPlanLabel',\n",
       " 'RTPlanName',\n",
       " 'RTPlanTime']"
      ]
     },
     "execution_count": 39,
     "metadata": {},
     "output_type": "execute_result"
    }
   ],
   "source": [
    "ds_rtplan.dir(\"Plan\")"
   ]
  },
  {
   "cell_type": "markdown",
   "metadata": {},
   "source": [
    "For our patient, we can see the pertinent information.\n",
    "\n",
    "For this patient:\n",
    "\n",
    "| Item | Source | Value |\n",
    "| ----- | -------------- | ----- |\n",
    "| Prescription Reference | (300a, 0016) Dose Reference Description | 'zz_6cm'|\n",
    "| Reference Point Coordinates | (300a, 0018) Dose Reference Point Coordinates | [0, -40, 0] |\n",
    "| Isocentre position | (300a, 012c) Isocenter Position | [0, -100, 0*] |\n",
    "| Target Prescription Dose | (300a, 0026) Target Prescription Dose  | 36.0 |\n",
    "| Target Prescription Units | Table C.8-46 | Gy |\n",
    "\n",
    "For the specific fraction:\n",
    "\n",
    "| Item | Source | Value |\n",
    "| ----- | -------------- | ----- |\n",
    "| Dose | (300a, 0084) Beam Dose | 3.0 |\n",
    "| Beam Meterset (i.e. MU) | (300a, 0086) Beam Meterset | 367.670378557074 | \n",
    "\n",
    "For the specific beam:\n",
    "\n",
    "| Item | Source | Value |\n",
    "| ---- | ------ | ----- |\n",
    "| Beam Limiting Device 1 | (300a, 00b8) RT Beam Limiting Device Type | X |\n",
    "| Beam Limiting Device 1 - Leaf/Jaw Positions | (300a, 011c) Leaf/Jaw Positions | -35, 35 ** |\n",
    "| Beam Limiting Device 2 | (300a, 00b8) RT Beam Limiting Device Type | Y |\n",
    "| Beam Limiting Device 2 - Leaf/Jaw Positions | (300a, 011c) Leaf/Jaw Positions | -20, 20 ** |\n",
    "| Energy | (300a, 0114) Nominal Beam Energy | 10 |\n",
    "| Energy Unit | Table C.8-50 | MV |\n",
    "| Source axis distance | (300a, 00b4) Source-Axis Distance | 1000.0 | \n",
    "\n",
    "\\* It's not strictly 0 in the z direction, but it is essentially 0.,,,\n",
    "\\*\\* For aymmetric fields, you may need to determine the coordinate system to know which beam limiting device side moves in which direction. For this case it doesn't really matter."
   ]
  },
  {
   "cell_type": "markdown",
   "metadata": {},
   "source": [
    "## Calculation\n",
    "Now we just need to perform the calculation.\n",
    "\n",
    "From our lectures we know for a 100cm FSD beam, we can reduce the manual calculation to  $MU = \\frac{d X R}{PDD}$. We therefore need to work out d, R and PDD, where d is the dose per fraction, R is the relative output factor, and PDD is the percentage depth dose.\n",
    "\n",
    "d is given from prescription dose for the fraction, and is 3 Gy.\n",
    "\n",
    "To work out R and PDD we will use the tables included in the resources section, but we first need the equivalent square. From the beam limiting devices we can see that it is a 70mm by 40mm field, therefore using the equivalent square formula $(\\frac{2 * a * b}{a + b})$, it's equivalent square will be:"
   ]
  },
  {
   "cell_type": "code",
   "execution_count": 40,
   "metadata": {},
   "outputs": [
    {
     "data": {
      "text/plain": [
       "50.90909090909091"
      ]
     },
     "execution_count": 40,
     "metadata": {},
     "output_type": "execute_result"
    }
   ],
   "source": [
    "(2 * 70 * 40)/(70 + 40)"
   ]
  },
  {
   "cell_type": "markdown",
   "metadata": {},
   "source": [
    "51 x 51 mm, or 5.1 x 5.1 cm\n",
    "\n",
    "The source axis distance (SAD)/source surface distance (SSD) is 1000mm, or 100cm, so our standard PDD tables will be fine with no corrections. For the PDDs, see [PDD pdf](./resources/PDDs.pdf), and for relative outputs, see [output factors pdf](./resources/outputfactors.pdf)\n",
    "\n",
    "Together then, we know it is a 10MV beam at 100cm FSD, at 5.1cm equivalent square field. We therefore use the 10MV set of tables in the PDDs, and in the output factors. \n",
    "\n",
    "From the details pulled out above we can see the reference dose point coordinates is at [0, -40, 0] and the isocentre is (for all intents and purposes) at [0, -100, 0]. The difference is 60mm, which ties up with our dose reference point label of zz_6cm, therefore we need to get a PDD for 6cm deep.\n",
    "\n",
    "Using the second table, for a depth of 6cm, we can pull out the 5cm equivalent square PDD as 87.0% and for 6cm as 87.2%. We could interpolate between the two, but it'll be very close to 87.0% so we can just use that for now.\n",
    "\n",
    "From the output factors for 10MV, at 100cm SSD, we can see that for an equivalent square of 5cm the output factor is 106.9%, and for 6cm is 104.8%. We can therefore interpolate to get the factor for 5.1cm. We can use the formula $\\frac{y-y_0}{x-x_0} = \\frac{y_1-y_0}{x_1-x_0}$. Conveniently numpy has an interpolation function:"
   ]
  },
  {
   "cell_type": "code",
   "execution_count": 41,
   "metadata": {},
   "outputs": [],
   "source": [
    "import numpy as np"
   ]
  },
  {
   "cell_type": "code",
   "execution_count": 42,
   "metadata": {},
   "outputs": [
    {
     "data": {
      "text/plain": [
       "106.69000000000001"
      ]
     },
     "execution_count": 42,
     "metadata": {},
     "output_type": "execute_result"
    }
   ],
   "source": [
    "np.interp(5.1,[5,6],[106.9,104.8])"
   ]
  },
  {
   "cell_type": "markdown",
   "metadata": {},
   "source": [
    "So we have R as 106.7%, PDD as 87.0%, and d as 3 Gy. Together this gives an MU of:"
   ]
  },
  {
   "cell_type": "code",
   "execution_count": 43,
   "metadata": {},
   "outputs": [
    {
     "data": {
      "text/plain": [
       "3.6793103448275866"
      ]
     },
     "execution_count": 43,
     "metadata": {},
     "output_type": "execute_result"
    }
   ],
   "source": [
    "(3*106.7)/87.0"
   ]
  },
  {
   "cell_type": "markdown",
   "metadata": {},
   "source": [
    "Comparing that against the meterset, we notice something wrong: we are a factor of 100 out! Remember back to lectures that we calibrate our outputs as 1MU/cGy! So if we instead convert to cGy first, we get:"
   ]
  },
  {
   "cell_type": "code",
   "execution_count": 44,
   "metadata": {},
   "outputs": [
    {
     "data": {
      "text/plain": [
       "367.9310344827586"
      ]
     },
     "execution_count": 44,
     "metadata": {},
     "output_type": "execute_result"
    }
   ],
   "source": [
    "(300*106.7)/87.0"
   ]
  },
  {
   "cell_type": "markdown",
   "metadata": {},
   "source": [
    "What is the correct (appropriate?) number of significant figures for a meterset/number of MU? The linear accelerator can only count to one decimal place, so it makes sense to use that as our limiting factor.  \n",
    "\n",
    "Therefore our calculation yields 367.9 MU - which is very close to the 367.7 in the plan object.\n",
    "\n",
    "We can finally check that this value makes sense:\n",
    "- the machine is calibrated to provide 1cGy/MU under reference conditions (10x10cm field, measured at depth of dose maximum, at 100cm SSD)\n",
    "  - our field size is smaller, so less dose makes it way to the central axis, so our number of MU must go up\n",
    "  - we are prescribing at a point deeper than the depth of dose maximum, as again the number of MU must go up."
   ]
  },
  {
   "cell_type": "markdown",
   "metadata": {},
   "source": [
    "## Assignment\n",
    "\n",
    "### Part 1 - Calculation\n",
    "In the resources folder, there is an RP object called `RP.singlefield-assignment.dcm`. \n",
    "\n",
    "1. Using this plan object, please produce a step-by-step calculation, and compare the calculated meterset with that in the plan object itself. [4 marks]\n",
    "2. An OAR is present at 15cm deep from the surface of the patient, on the central axis - what dose would this organ at risk receive (assume it is a point i.e. has no volume) [2 marks]\n",
    "\n",
    "Present your calculations step-by-step in a document. You may continue to write some code in this notebook to present the DICOM information, or you may download the DICOM file to open in your own environment.\n",
    "\n",
    "### Part 2 - Single vs.  Multi-field Plans\n",
    "In the resource folder, there is an RP object called `RP.multifield-assignment.dcm`.\n",
    "\n",
    "3. Using this plan object, and comparing it against the singlefield assignment plan object, describe what differences are present between single and multifield plans. It may be useful to use a heirarchical diagram. [2 marks]\n",
    "\n",
    "### Part 3 - Anonymisation\n",
    "Considering the anonymisation of an RP object:\n",
    "4. Select 2 DICOM tags that definitely require alteration, explain why, and what you would do to the data to make it anonymised [2 marks]\n",
    "5. Select 2 DICOM tags that should not be altered and explain why [2 marks]\n",
    "6. Select 2 DICOM tags that may or may be not altered, depending on the use of the anonymised dataset. Critically appraise the alteration of these, and describe some of the risks in retaining such information [3 marks]"
   ]
  }
 ],
 "metadata": {
  "kernelspec": {
   "display_name": "Python 3.9.7 ('base')",
   "language": "python",
   "name": "python3"
  },
  "language_info": {
   "codemirror_mode": {
    "name": "ipython",
    "version": 3
   },
   "file_extension": ".py",
   "mimetype": "text/x-python",
   "name": "python",
   "nbconvert_exporter": "python",
   "pygments_lexer": "ipython3",
   "version": "3.9.7"
  },
  "vscode": {
   "interpreter": {
    "hash": "f7b4fb653d30b4c0ab7b3da4abe0e85ca4653ae61d6e00e31c72e0c82eb435c4"
   }
  }
 },
 "nbformat": 4,
 "nbformat_minor": 4
}
